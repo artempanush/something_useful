{
 "cells": [
  {
   "cell_type": "markdown",
   "id": "fe76b2c7",
   "metadata": {},
   "source": [
    "Здесь будут все алгоритмы, что встретились, заинтересовали или просто нужны, чтобы я/кто-нибудь поглазел."
   ]
  },
  {
   "cell_type": "code",
   "execution_count": 1,
   "id": "061fb355",
   "metadata": {},
   "outputs": [
    {
     "name": "stdout",
     "output_type": "stream",
     "text": [
      "[1, 2, 3, 4, 5, 6, 7, 8]\n"
     ]
    }
   ],
   "source": [
    "#сортировка пузырьком\n",
    "\n",
    "o = [1,3,2,4,7,5,8,6]\n",
    "n = len(o)\n",
    "\n",
    "for i in range(0, n-1):\n",
    "    for j in range(0, n-1-i):\n",
    "        if o[j] > o[j+1]:\n",
    "            o[j], o[j+1] = o[j+1], o[j]\n",
    "            \n",
    "print(o)"
   ]
  },
  {
   "cell_type": "code",
   "execution_count": 2,
   "id": "9d5e5872",
   "metadata": {
    "scrolled": true
   },
   "outputs": [
    {
     "name": "stdout",
     "output_type": "stream",
     "text": [
      "[1]\n",
      "[1, 1]\n",
      "[1, 2, 1]\n",
      "[1, 3, 3, 1]\n",
      "[1, 4, 6, 4, 1]\n",
      "[1, 5, 10, 10, 5, 1]\n",
      "[1, 6, 15, 20, 15, 6, 1]\n",
      "[1, 7, 21, 35, 35, 21, 7, 1]\n",
      "[1, 8, 28, 56, 70, 56, 28, 8, 1]\n",
      "[1, 9, 36, 84, 126, 126, 84, 36, 9, 1]\n"
     ]
    }
   ],
   "source": [
    "#треугольник Паскаля\n",
    "\n",
    "m = 10\n",
    "p=[]\n",
    "\n",
    "for i in range(m):\n",
    "    row=[1]*(i+1)\n",
    "    for j in range(i+1):\n",
    "        if j!=0 and j!= i:\n",
    "            row[j] = p[i-1][j-1] + p[i-1][j]\n",
    "    p.append(row)\n",
    "    \n",
    "for r in p:\n",
    "    print(r)"
   ]
  },
  {
   "cell_type": "code",
   "execution_count": 5,
   "id": "847041b3",
   "metadata": {},
   "outputs": [
    {
     "data": {
      "text/plain": [
       "4"
      ]
     },
     "execution_count": 5,
     "metadata": {},
     "output_type": "execute_result"
    }
   ],
   "source": [
    "#алгоритм Евклида (наибольший общий делитель)\n",
    "\n",
    "def nod(c,d):\n",
    "    while c!=d:\n",
    "        if c > d:\n",
    "            c-=d\n",
    "        else:\n",
    "            d-=c\n",
    "    return(c)\n",
    "\n",
    "e = nod(4, 16)\n",
    "e"
   ]
  },
  {
   "cell_type": "code",
   "execution_count": 3,
   "id": "3f75f425",
   "metadata": {},
   "outputs": [
    {
     "data": {
      "text/plain": [
       "4"
      ]
     },
     "execution_count": 3,
     "metadata": {},
     "output_type": "execute_result"
    }
   ],
   "source": [
    "#алгоритм Евклида (наибольший общий делитель - вторая версия)\n",
    "\n",
    "def gcd4(a,b):\n",
    "    assert a >= 0 and b >= 0\n",
    "    if a ==0 or b ==0:\n",
    "        return max(a,b)\n",
    "    return gcd4(b%a, a)\n",
    "\n",
    "dd = gcd4(4,16)\n",
    "dd"
   ]
  },
  {
   "cell_type": "code",
   "execution_count": 6,
   "id": "a0860b4d",
   "metadata": {},
   "outputs": [],
   "source": [
    "#алгоритм Евклида (наибольший общий делитель - третья версия)\n",
    "\n",
    "def gcd(a, b): \n",
    "    while b != 0: \n",
    "        a, b = b, a % b \n",
    "    return a"
   ]
  },
  {
   "cell_type": "code",
   "execution_count": 2,
   "id": "cfa05202",
   "metadata": {},
   "outputs": [],
   "source": [
    "#проверка сбалансированности скобок\n",
    "\n",
    "def matched(str):\n",
    "    count=0\n",
    "    for i in str:\n",
    "        if i == '(':\n",
    "            count+=1\n",
    "        elif i == ')':\n",
    "            count-=1\n",
    "    if count < 0:\n",
    "        return False\n",
    "    return count == 0"
   ]
  },
  {
   "cell_type": "code",
   "execution_count": 18,
   "id": "64605c9c",
   "metadata": {},
   "outputs": [],
   "source": [
    "#нахождение нного числа Фибоначчи\n",
    "\n",
    "def fibarray(n):\n",
    "    f=[0,1]\n",
    "    for i in range(2,n+1):\n",
    "        f.append(f[i-1]+f[i-2])\n",
    "    return f[n]"
   ]
  },
  {
   "cell_type": "code",
   "execution_count": 23,
   "id": "a8deb086",
   "metadata": {},
   "outputs": [
    {
     "name": "stdout",
     "output_type": "stream",
     "text": [
      "407305795904080553832073954\n"
     ]
    }
   ],
   "source": [
    "print(fibarray(129))"
   ]
  },
  {
   "cell_type": "code",
   "execution_count": 1,
   "id": "63e786b4",
   "metadata": {},
   "outputs": [],
   "source": [
    "# сортировка слиянием\n",
    "\n",
    "def merge(a,b):\n",
    "    s = []\n",
    "    while a and b:\n",
    "        if a[0] <= b[0]:\n",
    "            s.append(a.pop(0))\n",
    "        else:\n",
    "            s.append(b.pop(0))\n",
    "    s.extend(a or b)\n",
    "    return s\n",
    "\n",
    "def mergesort(d):\n",
    "    if len(d) == 1: return d\n",
    "    \n",
    "    m = len(d)//2\n",
    "    return merge(mergesort(d[:m]), mergesort(d[m:]))"
   ]
  },
  {
   "cell_type": "code",
   "execution_count": 2,
   "id": "df35d321",
   "metadata": {},
   "outputs": [],
   "source": [
    "# нахождение факториала\n",
    "\n",
    "def factorial(n):\n",
    "    if n == 0:\n",
    "        return 1\n",
    "    \n",
    "    f = 1\n",
    "    i = 0\n",
    "    while i < n:\n",
    "        i +=1\n",
    "        f=f*i\n",
    "    return f"
   ]
  },
  {
   "cell_type": "code",
   "execution_count": 15,
   "id": "69f94e80",
   "metadata": {},
   "outputs": [],
   "source": [
    "# факториал рекурсией\n",
    "\n",
    "def factrec(n):\n",
    "    if n == 1:\n",
    "        return 1\n",
    "    else:\n",
    "        return n*factrec(n-1)"
   ]
  },
  {
   "cell_type": "code",
   "execution_count": 2,
   "id": "137d92ed",
   "metadata": {},
   "outputs": [
    {
     "name": "stdout",
     "output_type": "stream",
     "text": [
      "1 2 3 4 \n",
      "12 13 14 5 \n",
      "11 16 15 6 \n",
      "10 9 8 7 \n"
     ]
    }
   ],
   "source": [
    "# нарисовать спираль\n",
    "\n",
    "n = 4\n",
    "b = [[0]*n for i in range(n)]\n",
    "x = 0\n",
    "y = -1\n",
    "row = 0\n",
    "col = 1\n",
    "d = 1\n",
    "while d <= n**2:\n",
    "    if 0 <= x+row < n and 0 <= y+col <n and b[x+row][y+col] == 0:\n",
    "        x += row\n",
    "        y += col\n",
    "        b[x][y] = d\n",
    "        d+=1\n",
    "    else: \n",
    "        if col == 1:\n",
    "            col = 0\n",
    "            row = 1\n",
    "        elif row == 1:\n",
    "            row = 0\n",
    "            col = -1\n",
    "        elif col == -1:\n",
    "            col = 0\n",
    "            row = -1\n",
    "        elif row == -1:\n",
    "            col = 1\n",
    "            row = 0\n",
    "\n",
    "for i in b:\n",
    "    for j in i:\n",
    "        print(j,end = ' ')\n",
    "    print()"
   ]
  },
  {
   "cell_type": "code",
   "execution_count": 11,
   "id": "515da585",
   "metadata": {},
   "outputs": [],
   "source": [
    "# быстрая сортировка\n",
    "\n",
    "def quicksort(a):\n",
    "    if len(a) < 2:\n",
    "        return a\n",
    "    else:\n",
    "        p = a[0]\n",
    "        less = [i for i in a[1:] if i <=p]\n",
    "        greater = [i for i in a[1:] if i > p]\n",
    "        return quicksort(less) + [p] + quicksort(greater)"
   ]
  },
  {
   "cell_type": "code",
   "execution_count": 12,
   "id": "94ca99fb",
   "metadata": {},
   "outputs": [
    {
     "data": {
      "text/plain": [
       "[1, 2, 2, 3, 5, 6, 7, 11, 14, 15, 17, 25, 28, 30]"
      ]
     },
     "execution_count": 12,
     "metadata": {},
     "output_type": "execute_result"
    }
   ],
   "source": [
    "example_array = [6,2,15,14,30, 3, 5,17,1,2,28, 11, 25, 7]\n",
    "quicksort(example_array)"
   ]
  },
  {
   "cell_type": "code",
   "execution_count": 20,
   "id": "16c2849e",
   "metadata": {},
   "outputs": [],
   "source": [
    "#сортировка выбором\n",
    "\n",
    "def selectionsort(ar):\n",
    "    for i in range(1, n):\n",
    "        k = i\n",
    "        for j in range(i+1, n):\n",
    "            if ar[j] < ar[k]:\n",
    "                k=j\n",
    "        ar[i] = ar[k]"
   ]
  },
  {
   "cell_type": "code",
   "execution_count": 22,
   "id": "bba3979a",
   "metadata": {},
   "outputs": [],
   "source": [
    "selectionsort(example_array)"
   ]
  },
  {
   "cell_type": "code",
   "execution_count": null,
   "id": "1fa46f23",
   "metadata": {},
   "outputs": [],
   "source": []
  },
  {
   "cell_type": "code",
   "execution_count": null,
   "id": "97b3f8fa",
   "metadata": {},
   "outputs": [],
   "source": []
  }
 ],
 "metadata": {
  "kernelspec": {
   "display_name": "Python 3",
   "language": "python",
   "name": "python3"
  },
  "language_info": {
   "codemirror_mode": {
    "name": "ipython",
    "version": 3
   },
   "file_extension": ".py",
   "mimetype": "text/x-python",
   "name": "python",
   "nbconvert_exporter": "python",
   "pygments_lexer": "ipython3",
   "version": "3.8.8"
  }
 },
 "nbformat": 4,
 "nbformat_minor": 5
}
