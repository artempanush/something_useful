{
 "cells": [
  {
   "cell_type": "markdown",
   "id": "fe76b2c7",
   "metadata": {},
   "source": [
    "Здесь будут все алгоритмы, что встретились, заинтересовали или просто нужны, чтобы я/кто-нибудь поглазел."
   ]
  },
  {
   "cell_type": "code",
   "execution_count": 1,
   "id": "061fb355",
   "metadata": {},
   "outputs": [
    {
     "name": "stdout",
     "output_type": "stream",
     "text": [
      "[1, 2, 3, 4, 5, 6, 7, 8]\n"
     ]
    }
   ],
   "source": [
    "#сортировка пузырьком\n",
    "\n",
    "o = [1,3,2,4,7,5,8,6]\n",
    "n = len(o)\n",
    "\n",
    "for i in range(0, n-1):\n",
    "    for j in range(0, n-1-i):\n",
    "        if o[j] > o[j+1]:\n",
    "            o[j], o[j+1] = o[j+1], o[j]\n",
    "            \n",
    "print(o)"
   ]
  },
  {
   "cell_type": "code",
   "execution_count": 2,
   "id": "9d5e5872",
   "metadata": {
    "scrolled": true
   },
   "outputs": [
    {
     "name": "stdout",
     "output_type": "stream",
     "text": [
      "[1]\n",
      "[1, 1]\n",
      "[1, 2, 1]\n",
      "[1, 3, 3, 1]\n",
      "[1, 4, 6, 4, 1]\n",
      "[1, 5, 10, 10, 5, 1]\n",
      "[1, 6, 15, 20, 15, 6, 1]\n",
      "[1, 7, 21, 35, 35, 21, 7, 1]\n",
      "[1, 8, 28, 56, 70, 56, 28, 8, 1]\n",
      "[1, 9, 36, 84, 126, 126, 84, 36, 9, 1]\n"
     ]
    }
   ],
   "source": [
    "#треугольник Паскаля\n",
    "\n",
    "m = 10\n",
    "p=[]\n",
    "\n",
    "for i in range(m):\n",
    "    row=[1]*(i+1)\n",
    "    for j in range(i+1):\n",
    "        if j!=0 and j!= i:\n",
    "            row[j] = p[i-1][j-1] + p[i-1][j]\n",
    "    p.append(row)\n",
    "    \n",
    "for r in p:\n",
    "    print(r)"
   ]
  },
  {
   "cell_type": "code",
   "execution_count": 5,
   "id": "847041b3",
   "metadata": {},
   "outputs": [
    {
     "data": {
      "text/plain": [
       "4"
      ]
     },
     "execution_count": 5,
     "metadata": {},
     "output_type": "execute_result"
    }
   ],
   "source": [
    "#алгоритм Евклида (наибольший общий делитель)\n",
    "\n",
    "def nod(c,d):\n",
    "    while c!=d:\n",
    "        if c > d:\n",
    "            c-=d\n",
    "        else:\n",
    "            d-=c\n",
    "    return(c)\n",
    "\n",
    "e = nod(4, 16)\n",
    "e"
   ]
  },
  {
   "cell_type": "code",
   "execution_count": 2,
   "id": "cfa05202",
   "metadata": {},
   "outputs": [],
   "source": [
    "#проверка сбалансированности скобок\n",
    "\n",
    "def matched(str):\n",
    "    count=0\n",
    "    for i in str:\n",
    "        if i == '(':\n",
    "            count+=1\n",
    "        elif i == ')':\n",
    "            count-=1\n",
    "    if count < 0:\n",
    "        return False\n",
    "    return count == 0"
   ]
  },
  {
   "cell_type": "code",
   "execution_count": 18,
   "id": "64605c9c",
   "metadata": {},
   "outputs": [],
   "source": [
    "#нахождение нного числа Фибоначчи\n",
    "\n",
    "def fibarray(n):\n",
    "    f=[0,1]\n",
    "    for i in range(2,n+1):\n",
    "        f.append(f[i-1]+f[i-2])\n",
    "    return f[n]"
   ]
  },
  {
   "cell_type": "code",
   "execution_count": 23,
   "id": "a8deb086",
   "metadata": {},
   "outputs": [
    {
     "name": "stdout",
     "output_type": "stream",
     "text": [
      "407305795904080553832073954\n"
     ]
    }
   ],
   "source": [
    "print(fibarray(129))"
   ]
  }
 ],
 "metadata": {
  "kernelspec": {
   "display_name": "Python 3",
   "language": "python",
   "name": "python3"
  },
  "language_info": {
   "codemirror_mode": {
    "name": "ipython",
    "version": 3
   },
   "file_extension": ".py",
   "mimetype": "text/x-python",
   "name": "python",
   "nbconvert_exporter": "python",
   "pygments_lexer": "ipython3",
   "version": "3.8.8"
  }
 },
 "nbformat": 4,
 "nbformat_minor": 5
}
